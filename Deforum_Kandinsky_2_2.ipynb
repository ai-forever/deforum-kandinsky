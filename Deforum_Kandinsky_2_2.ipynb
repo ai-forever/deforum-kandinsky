{
 "cells": [
  {
   "cell_type": "code",
   "execution_count": null,
   "metadata": {},
   "outputs": [
    {
     "name": "stdout",
     "output_type": "stream",
     "text": [
      "Failed to initialize NVML: Unknown Error\n"
     ]
    }
   ],
   "source": [
    "!nvidia-smi"
   ]
  },
  {
   "cell_type": "code",
   "execution_count": 1,
   "metadata": {},
   "outputs": [
    {
     "name": "stderr",
     "output_type": "stream",
     "text": [
      "/home/jovyan/.imgenv-kandinsky-deforum-azizov-0/lib/python3.9/site-packages/torch/cuda/__init__.py:546: UserWarning: Can't initialize NVML\n",
      "  warnings.warn(\"Can't initialize NVML\")\n"
     ]
    }
   ],
   "source": [
    "from IPython.display import Video\n",
    "from deforum_kandinsky import KandinskyV22Img2ImgPipeline, DeforumKandinsky\n",
    "from diffusers import KandinskyV22PriorPipeline\n",
    "from transformers import CLIPVisionModelWithProjection\n",
    "from diffusers.models import UNet2DConditionModel\n",
    "import imageio.v2 as iio\n",
    "from PIL import Image\n",
    "import numpy as np\n",
    "import torch\n",
    "from tqdm.notebook import tqdm\n",
    "import ipywidgets as widgets\n",
    "from tqdm.notebook import tqdm \n",
    "from IPython import display\n",
    "from ipywidgets import Output"
   ]
  },
  {
   "cell_type": "code",
   "execution_count": 2,
   "metadata": {},
   "outputs": [],
   "source": [
    "#  create video from generated frames\n",
    "def frames2video(frames, output_path=\"video.mp4\", fps=24, display=False):\n",
    "    writer = iio.get_writer(output_path, fps=fps)\n",
    "    for frame in tqdm(frames):\n",
    "        writer.append_data(np.array(frame))\n",
    "    writer.close()\n",
    "    if display:\n",
    "        Video(url=output_path)"
   ]
  },
  {
   "cell_type": "markdown",
   "metadata": {},
   "source": [
    "## Kandinsky 2.2"
   ]
  },
  {
   "cell_type": "code",
   "execution_count": 3,
   "metadata": {},
   "outputs": [],
   "source": [
    "device = \"cuda\"\n",
    "image_encoder = CLIPVisionModelWithProjection.from_pretrained(\n",
    "    'kandinsky-community/kandinsky-2-2-prior', \n",
    "    subfolder='image_encoder'\n",
    "    ).to(torch.float16).to(device)\n",
    "\n",
    "unet = UNet2DConditionModel.from_pretrained(\n",
    "    'kandinsky-community/kandinsky-2-2-decoder', \n",
    "    subfolder='unet'\n",
    "    ).to(torch.float16).to(device)\n",
    "\n",
    "prior = KandinskyV22PriorPipeline.from_pretrained(\n",
    "    'kandinsky-community/kandinsky-2-2-prior', \n",
    "    image_encoder=image_encoder, \n",
    "    torch_dtype=torch.float16,\n",
    "    ).to(device)\n",
    "decoder = KandinskyV22Img2ImgPipeline.from_pretrained(\n",
    "    'kandinsky-community/kandinsky-2-2-decoder', \n",
    "    unet=unet,\n",
    "    torch_dtype=torch.float16\n",
    "    ).to(device)\n",
    "\n",
    "prior.set_progress_bar_config(disable=True)\n",
    "decoder.set_progress_bar_config(disable=True)"
   ]
  },
  {
   "cell_type": "markdown",
   "metadata": {},
   "source": [
    "## Define instance of Deforum"
   ]
  },
  {
   "cell_type": "code",
   "execution_count": 4,
   "metadata": {},
   "outputs": [],
   "source": [
    "# define instance of Deforum\n",
    "deforum = DeforumKandinsky(\n",
    "    prior=prior,\n",
    "    decoder_img2img=decoder,\n",
    "    device='cuda'\n",
    ")"
   ]
  },
  {
   "cell_type": "markdown",
   "metadata": {},
   "source": [
    "## Create Default Animation"
   ]
  },
  {
   "cell_type": "code",
   "execution_count": 9,
   "metadata": {},
   "outputs": [],
   "source": [
    "def create_animation_widgets():\n",
    "    prompt = widgets.Text(\n",
    "        description='Prompt:', \n",
    "        layout=widgets.Layout(width='80%')\n",
    "    )\n",
    "    negative_prompt = widgets.Text(\n",
    "        description='Neg Prompt:', \n",
    "        value=\"low quility, bad image, cropped, out of frame\",\n",
    "        layout=widgets.Layout(width='80%')\n",
    "    )\n",
    "    duration = widgets.FloatSlider(\n",
    "        description='Duration:', \n",
    "        min=0.25, max=60, \n",
    "        value=5, step=0.25, \n",
    "        layout=widgets.Layout(width='80%')\n",
    "    )\n",
    "    animation = widgets.RadioButtons(\n",
    "        options=[\"right\", \"left\", \"up\", \"down\", \"spin_clockwise\", \"spin_counterclockwise\", \"zoomin\", \"zoomout\" , \"live\"], \n",
    "        description='Animation Mode:'\n",
    "        )\n",
    "\n",
    "    animation = widgets.Dropdown(\n",
    "        options=[\"right\", \"left\", \"up\", \"down\", \"spin_clockwise\", \"spin_counterclockwise\", \"zoomin\", \"zoomout\" , \"live\"],\n",
    "        value=\"right\",\n",
    "        description='Number:',\n",
    "    )\n",
    "    return widgets.VBox(children=(prompt,negative_prompt, duration, animation))\n",
    "\n",
    "def create_video_settings():\n",
    "    return widgets.VBox(children=[\n",
    "        widgets.HTML(\"<h2>Video Settings</h2>\"),\n",
    "        widgets.BoundedIntText(\n",
    "            min=64,\n",
    "            max=1e6,\n",
    "            step=64,\n",
    "            value=640,\n",
    "            description='Width:',\n",
    "            disabled=False\n",
    "        ),\n",
    "        widgets.BoundedIntText(\n",
    "            min=64,\n",
    "            max=1e6,\n",
    "            step=64,\n",
    "            value=640,\n",
    "            description='Height:',\n",
    "            disabled=False\n",
    "        ),\n",
    "        widgets.IntSlider(\n",
    "            description='FPS',\n",
    "            min=1, \n",
    "            max=48, \n",
    "            value=24, \n",
    "            step=1\n",
    "        ),\n",
    "        widgets.Text(\n",
    "            description='output path:', \n",
    "            value = \"video.mp4\",\n",
    "        )\n",
    "    ])\n",
    "\n",
    "def create_animation_tabs():\n",
    "    an_widgets = widgets.Tab(layout=widgets.Layout(width='90%', height='100%'))\n",
    "    an_widgets.children = [create_animation_widgets()]\n",
    "\n",
    "    def update(a, an_widgets=an_widgets):\n",
    "        if an_widgets.children[-1].children[0].value:\n",
    "            an_widgets.children += (create_animation_widgets(),)\n",
    "        for index, child in enumerate(an_widgets.children):\n",
    "            an_widgets.set_title(index, child.children[0].value)\n",
    "\n",
    "    def clear(a, an_widgets=an_widgets):\n",
    "        children = list(an_widgets.children)\n",
    "        children.pop(an_widgets.selected_index)\n",
    "        an_widgets.children = tuple(children)\n",
    "        an_widgets.set_title(0, \"\")\n",
    "\n",
    "    add_button = widgets.Button(\n",
    "        description='Add Animation',\n",
    "        layout=widgets.Layout(width='44.75%')\n",
    "    )\n",
    "    add_button.style.button_color = \"blue\"\n",
    "    add_button.on_click(update)\n",
    "\n",
    "    clear_button = widgets.Button(\n",
    "        description='Remove Animation',\n",
    "        layout=widgets.Layout(width='44.75%')\n",
    "    )\n",
    "    clear_button.style.button_color = \"red\"\n",
    "    clear_button.on_click(clear)\n",
    "\n",
    "    return widgets.VBox([\n",
    "        widgets.HTML(\"<h2>Animations</h2>\"), \n",
    "        an_widgets,\n",
    "        widgets.HBox([add_button, clear_button])\n",
    "    ])\n",
    "\n",
    "\n",
    "def create_start_button(animation_tabs, video_widgets, deforum, animation_display):\n",
    "    def render_deforum(animation, animation_display, output_path):\n",
    "        frames = []\n",
    "        for frame, current_params in animation:\n",
    "            frames.append(frame)\n",
    "            with animation_display:\n",
    "                display.clear_output(wait=True)\n",
    "                display.display(frame)\n",
    "        \n",
    "        if output_path and output_path.endswith(\".mp4\"):\n",
    "            frames2video(frames, output_path)\n",
    "        else: \n",
    "            frames2video(frames)\n",
    "            \n",
    "    def parse_args(_):\n",
    "        children = animation_tabs.children[1].children\n",
    "        prompts = []\n",
    "        negative_prompts = [] \n",
    "        durations = []\n",
    "        animations = []\n",
    "        for child in children:\n",
    "            prompt, negative_prompt, duration, animation = [x.value for x in child.children]\n",
    "            if prompt: \n",
    "                prompts.append(prompt)\n",
    "                negative_prompts.append(negative_prompt)\n",
    "                durations.append(int(duration))\n",
    "                animations.append(animation)\n",
    "                \n",
    "        width, height, fps = [int(x.value) for x in video_widgets.children[1:-1]]\n",
    "        output_path = video_widgets.children[-1].value\n",
    "        animation = deforum(\n",
    "            prompts=prompts,\n",
    "            negative_prompts=negative_prompts, \n",
    "            animations=animations, \n",
    "            prompt_durations=durations,\n",
    "            H=height,\n",
    "            W=width,\n",
    "            fps=fps,\n",
    "            sampler=\"euler\"\n",
    "        )\n",
    "        animation = tqdm(animation, total=len(deforum))\n",
    "        render_deforum(animation, animation_display, output_path)\n",
    "\n",
    "    button = widgets.Button(\n",
    "        description='Start Rendering!', \n",
    "        layout=widgets.Layout(width='90%')\n",
    "    )\n",
    "    button.on_click(parse_args)\n",
    "    return button"
   ]
  },
  {
   "cell_type": "code",
   "execution_count": 10,
   "metadata": {},
   "outputs": [],
   "source": [
    "video_widgets = create_video_settings()\n",
    "animation_tabs = create_animation_tabs()\n",
    "animation_display = widgets.Output()\n",
    "start_button = create_start_button(animation_tabs, video_widgets, deforum, animation_display)\n",
    "display.display(animation_display, video_widgets, animation_tabs, start_button)"
   ]
  },
  {
   "cell_type": "code",
   "execution_count": null,
   "metadata": {},
   "outputs": [],
   "source": [
    "# define instance of Deforum\n",
    "deforum = DeforumKandinsky(\n",
    "    prior=prior,\n",
    "    decoder_img2img=decoder,\n",
    "    device='cuda'\n",
    ")\n",
    "\n",
    "            \n",
    "animation = deforum(\n",
    "    prompts=[\n",
    "        \"winter forest, snowflakes, Van Gogh style\",\n",
    "        \"spring forest, flowers, sun rays, Van Gogh style\",\n",
    "        \"summer forest, lake, reflections on the water, summer sun, Van Gogh style\",\n",
    "        \"autumn forest, rain, Van Gogh style\",\n",
    "        \"winter forest, snowflakes, Van Gogh style\",\n",
    "    ], \n",
    "    animations=['live', 'right', 'right', 'right', 'live'], \n",
    "    prompt_durations=[1, 1, 1, 1, 1],\n",
    "    H=640,\n",
    "    W=640,\n",
    "    fps=24,\n",
    "    save_samples=False,\n",
    "    linear_transition=True,\n",
    ")\n",
    "\n",
    "frames = []\n",
    "\n",
    "out = Output()\n",
    "pbar = tqdm(animation, total=len(deforum))\n",
    "display.display(out)\n",
    "for frame, current_params in pbar:\n",
    "    frames.append(frame)\n",
    "    with out:\n",
    "        display.clear_output(wait=True)\n",
    "        display.display(frame)\n",
    "        for key, value in current_params.items():\n",
    "            print(f\"{key}: {value}\")"
   ]
  },
  {
   "cell_type": "code",
   "execution_count": null,
   "metadata": {},
   "outputs": [],
   "source": [
    "frames2video(frames, \"output_2_2.mp4\", fps=4)\n",
    "Video(\"output_2_2.mp4\")"
   ]
  },
  {
   "cell_type": "code",
   "execution_count": null,
   "metadata": {},
   "outputs": [],
   "source": []
  }
 ],
 "metadata": {
  "accelerator": "GPU",
  "colab": {
   "provenance": []
  },
  "gpuClass": "standard",
  "kernelspec": {
   "display_name": "Python 3 (ipykernel)",
   "language": "python",
   "name": "python3"
  },
  "language_info": {
   "codemirror_mode": {
    "name": "ipython",
    "version": 3
   },
   "file_extension": ".py",
   "mimetype": "text/x-python",
   "name": "python",
   "nbconvert_exporter": "python",
   "pygments_lexer": "ipython3",
   "version": "3.9.16"
  },
  "vscode": {
   "interpreter": {
    "hash": "25b221746895226ff7c6b9d8aea8c62a9e808c88b786315a5ba5e4e82d158d3f"
   }
  }
 },
 "nbformat": 4,
 "nbformat_minor": 4
}
